{
 "cells": [
  {
   "cell_type": "markdown",
   "id": "9236c04d",
   "metadata": {},
   "source": [
    "# Design Patterns Logbook\n",
    "## Theo Sylva\n",
    "### 22200390\n",
    "#### 27th November 2023"
   ]
  },
  {
   "cell_type": "markdown",
   "id": "b250a9a4",
   "metadata": {},
   "source": [
    "## <font color=\"red\">Logbook Exercise 1</font> ##\n",
    "\n",
    "Insert a 'code' cell below. In this do the following:\n",
    "\n",
    "- line 1 - create a list named \"shopping_list\" with items: milk, eggs, bread, cheese, tea, coffee, rice, pasta, milk, tea (<font color=\"red\">NOTE: the duplicate items are intentional</font>)\n",
    "- line 2 - print the list along with a message e.g. \"This is my shopping list ...\"\n",
    "- line 3 - create a tuple named \"shopping_tuple\" with the same items\n",
    "- line 4 - print the tuple with similar message e.g. \"This is my shopping tuple ...\"\n",
    "- line 5 - create a set named \"shopping_set\" from \"shopping_list\" by using the set() method\n",
    "- line 6 - print the set with appropriate message and check duplicate items have been removed\n",
    "- line 7 - make a dictionary \"shopping_dict\" - copy and paste the following items and prices: \"milk\": \"£1.20\", \"eggs\": \"£0.87\", \"bread\": \"£0.64\", \"cheese\": \"£1.75\", \"tea\": \"£1.06\", \"coffee\": \"£2.15\", \"rice\": \"£1.60\", \"pasta\": \"£1.53\".\n",
    "- line 8 - print the dictionary with an appropriate message \n",
    "\n",
    "An example of fully described printed output is presented below (some clues here also)\n",
    "Don't worry of your text output is different - it is the contents of the compund variables that matter\n",
    "\n",
    "```\n",
    "This is my shopping list ['milk', 'eggs', 'bread', 'cheese', 'tea', 'coffee', 'rice', 'pasta', 'milk', 'tea']\n",
    "This is my shopping tuple ('milk', 'eggs', 'bread', 'cheese', 'tea', 'coffee', 'rice', 'pasta', 'milk', 'tea')\n",
    "This is my Shopping_set with duplicates removes {'rice', 'milk', 'pasta', 'cheese', 'eggs', 'tea', 'bread', 'coffee'}\n",
    "This is my shopping_dict {'milk': '£1.20', 'eggs': '£0.87', 'bread': '£0.64', 'cheese': '£1.75', 'tea': '£1.06', 'coffee': '£2.15', 'rice': '£1.60', 'pasta': '£1.53'}\n",
    "```"
   ]
  },
  {
   "cell_type": "code",
   "execution_count": 1,
   "id": "2a712790",
   "metadata": {},
   "outputs": [
    {
     "name": "stdout",
     "output_type": "stream",
     "text": [
      "This is my shopping_list: ['milk', 'eggs', 'bread', 'cheese', 'tea', 'coffee', 'rice', 'pasta', 'milk', 'tea']\n",
      "This is my shopping_tuple: ('milk', 'eggs', 'bread', 'cheese', 'tea', 'coffee', 'rice', 'pasta', 'milk', 'tea')\n",
      "This is my shopping_list with duplicate items: ['milk', 'eggs', 'bread', 'cheese', 'tea', 'coffee', 'rice', 'pasta', 'milk', 'tea']\n",
      "This is my shopping_set with duplicate items removed: {'eggs', 'bread', 'rice', 'milk', 'tea', 'pasta', 'coffee', 'cheese'}\n",
      "This is my shopping_dict: {'milk': '£1.20', 'eggs': '£0.87', 'bread': '£0.64', 'cheese': '£1.75', 'tea': '£1.06', 'coffee': '£2.15', 'rice': '£1.60', 'pasta': '£1.53'}\n"
     ]
    }
   ],
   "source": [
    "shopping_list = [\"milk\", \"eggs\", \"bread\", \"cheese\", \"tea\", \"coffee\", \"rice\", \"pasta\", \"milk\", \"tea\"]\n",
    "print(\"This is my shopping_list:\", shopping_list)\n",
    "shopping_tuple = (\"milk\", \"eggs\", \"bread\", \"cheese\", \"tea\", \"coffee\", \"rice\", \"pasta\", \"milk\", \"tea\")\n",
    "print(\"This is my shopping_tuple:\", shopping_tuple)\n",
    "print(\"This is my shopping_list with duplicate items:\", shopping_list)\n",
    "shopping_set = set(shopping_list)\n",
    "print(\"This is my shopping_set with duplicate items removed:\", shopping_set)\n",
    "shopping_dict = {\"milk\": \"£1.20\", \"eggs\": \"£0.87\", \"bread\": \"£0.64\", \"cheese\": \"£1.75\", \"tea\": \"£1.06\", \"coffee\": \"£2.15\", \"rice\": \"£1.60\", \"pasta\": \"£1.53\"}\n",
    "print(\"This is my shopping_dict:\", shopping_dict)"
   ]
  },
  {
   "cell_type": "markdown",
   "id": "ef21988d",
   "metadata": {},
   "source": []
  },
  {
   "cell_type": "markdown",
   "id": "a2b6e748",
   "metadata": {},
   "source": [
    "## <font color=\"red\">Logbook Exercise 2</font> ##\n",
    "\n",
    "Create a 'code' cell below. In this do the following:\n",
    "\n",
    "- line 1 - Use a comment to title your exercise - e.g. \"Unit 2 Exercise\" \n",
    "- line 2 - create a list ... li = [\"USA\",\"Mexico\",\"Canada\"]\n",
    "- line 3 - append \"Greenland\" to the list\n",
    "- l4 - print the list to de,monstrate that Greenland is attached\n",
    "- l5 - remove \"Greenland\"\n",
    "- l6 - print the list to de,monstrate that Greenland is removed\n",
    "- l7 - insert \"Greenland\" at the beginning of the list\n",
    "- l8 - print the resul of l7\n",
    "- l9 - shorthand slice the list to extract the first two items - simultaneausly print the output\n",
    "- l10 - use a negative index to extract the second to last item - simultaneausly print the output\n",
    "- l11 - use a splitting sequence to extract the middle two items - simultaneausly print the output\n",
    "\n",
    "An example of fully described printed output is presented below (some clues here also)\n",
    "Don't worry of your text output is different - it is the contents of the list that matter\n",
    "\n",
    "```\n",
    "li.append('Greenland') gives ...  ['USA', 'Mexico', 'Canada', 'Greenland']\n",
    "li.remove('Greenland') gives ...  ['USA', 'Mexico', 'Canada']\n",
    "li.insert(0,'Greenland') gives ...  ['Greenland', 'USA', 'Mexico', 'Canada']\n",
    "li[:2] gives ...  ['Greenland', 'USA']\n",
    "li[-2] gives ...  Mexico\n",
    "li[1:3] gives ...  ['USA', 'Mexico']\n",
    "```"
   ]
  },
  {
   "cell_type": "code",
   "execution_count": 8,
   "id": "5c259c7d",
   "metadata": {},
   "outputs": [
    {
     "name": "stdout",
     "output_type": "stream",
     "text": [
      "li.append('Greenland') gives ['USA', 'Mexico', 'Canada', 'Greenland']\n",
      "li.remove('Greenland') gives ['USA', 'Mexico', 'Canada']\n",
      "li.insert(0,'Greenland') gives ['Greenland', 'USA', 'Mexico', 'Canada']\n"
     ]
    }
   ],
   "source": [
    "# Logbook Exercise 2\n",
    "li = [\"USA\",\"Mexico\",\"Canada\"]\n",
    "li.append(\"Greenland\")\n",
    "print(\"li.append('Greenland') gives\", li)\n",
    "li.remove(\"Greenland\")\n",
    "print(\"li.remove('Greenland') gives\", li)\n",
    "li.insert(0, \"Greenland\")\n",
    "print(\"li.insert(0,'Greenland') gives\", li)"
   ]
  },
  {
   "cell_type": "code",
   "execution_count": 5,
   "id": "ffaf30d1",
   "metadata": {},
   "outputs": [
    {
     "name": "stdout",
     "output_type": "stream",
     "text": [
      "li[:2] gives ['Greenland', 'USA']\n"
     ]
    }
   ],
   "source": [
    "print(\"li[:2] gives\", li[:2])"
   ]
  },
  {
   "cell_type": "code",
   "execution_count": 6,
   "id": "6b9de240",
   "metadata": {},
   "outputs": [
    {
     "name": "stdout",
     "output_type": "stream",
     "text": [
      "li[-2] gives Mexico\n"
     ]
    }
   ],
   "source": [
    "print(\"li[-2] gives\", li[-2])"
   ]
  },
  {
   "cell_type": "code",
   "execution_count": 7,
   "id": "e31be5be",
   "metadata": {},
   "outputs": [
    {
     "name": "stdout",
     "output_type": "stream",
     "text": [
      "li[1:3] gives ['USA', 'Mexico']\n"
     ]
    }
   ],
   "source": [
    "print(\"li[1:3] gives\", li[1:3])"
   ]
  },
  {
   "cell_type": "markdown",
   "id": "52b0db98",
   "metadata": {},
   "source": []
  },
  {
   "cell_type": "markdown",
   "id": "85692193",
   "metadata": {},
   "source": [
    "## <font color=\"red\">Logbook Exercise 3</font> ##\n",
    "\n",
    "Create a 'code' cell below. In this do the following:\n",
    "- on the first line create the following set ... a=[0,1,2,3,4,5,6,7,8,9,10] \n",
    "- on the second line create the following set ... b=[0,5,10,15,20,25]\n",
    "- on the third line create the following dictionary ... topscores={\"Jo\":999, \"Sue\":987, \"Tara\":960; \"Mike\":870}\n",
    "- use a combination of print() and type() methods to produce the following output\n",
    "\n",
    "```\n",
    "list a is ...  [0, 1, 2, 3, 4, 5, 6, 7, 8, 9, 10]\n",
    "list b is ...  [0, 5, 10, 15, 20, 25]\n",
    "The type of a is now ... <class 'list'>\n",
    "```\n",
    "\n",
    "- on the next 2 lines convert list a and b to sets using set()\n",
    "- on the following lines use a combination of print(), type() and set notaion (e.g. 'a & b', 'a | b', 'b-a') to obtain the following output\n",
    "\n",
    "```\n",
    "set a is ...  {0, 1, 2, 3, 4, 5, 6, 7, 8, 9, 10}\n",
    "set b is ...  {0, 5, 10, 15, 20, 25}\n",
    "The type of a is now ... <class 'set'>\n",
    "Intersect of a and b is [0, 10, 5]\n",
    "Union of a and b is [0, 1, 2, 3, 4, 5, 6, 7, 8, 9, 10, 15, 20, 25]\n",
    "Items unique to set b are {25, 20, 15}\n",
    "```\n",
    "\n",
    "- on the next 2 lines use print(), '.keys()' and '.values()' methods to obtain the following output \n",
    "\n",
    "```\n",
    "topscores dictionary keys are dict_keys(['Jo', 'Sue', 'Tara', 'Mike'])\n",
    "topscores dictionary values are dict_values([999, 987, 960, 870])\n",
    "```"
   ]
  },
  {
   "cell_type": "code",
   "execution_count": 2,
   "id": "4fbc5a4a",
   "metadata": {},
   "outputs": [
    {
     "name": "stdout",
     "output_type": "stream",
     "text": [
      "list a is [0, 1, 2, 3, 4, 5, 6, 7, 8, 9, 10]\n",
      "list b is [0, 5, 10, 15, 20, 25]\n",
      "The type of list a is <class 'list'>\n"
     ]
    }
   ],
   "source": [
    "# Logbook Exercise 3\n",
    "a = [0,1,2,3,4,5,6,7,8,9,10]\n",
    "b = [0,5,10,15,20,25]\n",
    "topscores = {\"Jo\":999, \"Sue\":987, \"Tara\":960, \"Mike\":870}\n",
    "print(\"list a is\", a)\n",
    "print(\"list b is\", b)\n",
    "print(\"The type of list a is\", type(a))"
   ]
  },
  {
   "cell_type": "code",
   "execution_count": 4,
   "id": "69486aee",
   "metadata": {},
   "outputs": [
    {
     "name": "stdout",
     "output_type": "stream",
     "text": [
      "set a is {0, 1, 2, 3, 4, 5, 6, 7, 8, 9, 10}\n",
      "set b is {0, 5, 10, 15, 20, 25}\n",
      "The type of set a is now <class 'set'>\n",
      "Intersect of set_a and set_b is {0, 10, 5}\n",
      "Union of set_a and set_b is {0, 1, 2, 3, 4, 5, 6, 7, 8, 9, 10, 15, 20, 25}\n",
      "Items unique to set_b are {25, 20, 15}\n"
     ]
    }
   ],
   "source": [
    "set_a = set(a)\n",
    "set_b = set(b)\n",
    "print(\"set a is\", set_a)\n",
    "print(\"set b is\", set_b)\n",
    "print(\"The type of set a is now\", type(set_a))\n",
    "print(\"Intersect of set_a and set_b is\", set_a&set_b)\n",
    "print(\"Union of set_a and set_b is\", set_a|set_b)\n",
    "print(\"Items unique to set_b are\", set_b-set_a)"
   ]
  },
  {
   "cell_type": "code",
   "execution_count": 5,
   "id": "3e78fb7e",
   "metadata": {},
   "outputs": [
    {
     "name": "stdout",
     "output_type": "stream",
     "text": [
      "topscores dictionary keys are dict_keys(['Jo', 'Sue', 'Tara', 'Mike'])\n",
      "topscores dictionary values are dict_values([999, 987, 960, 870])\n"
     ]
    }
   ],
   "source": [
    "print(\"topscores dictionary keys are\", topscores.keys())\n",
    "print(\"topscores dictionary values are\", topscores.values())"
   ]
  },
  {
   "cell_type": "markdown",
   "id": "a47a101c",
   "metadata": {},
   "source": []
  },
  {
   "cell_type": "markdown",
   "id": "72c594a8",
   "metadata": {},
   "source": [
    "## <font color=\"red\">Logbook Exercise 4</font> ##\n",
    "\n",
    "Create a 'code' cell below. In this do the following:\n",
    "- Given the following 4 lists of names, house number and street addresses, towns and postcodes ...  \n",
    "\n",
    "```\n",
    "[\"T Cruise\",\"D Francis\",\"C White\"]\n",
    "[\"2 West St\",\"65 Deadend Cls\",\"15 Magdalen Rd\"]\n",
    "[\"Canterbury\", \"Reading\", \"Oxford\"]\n",
    "[\"CT8 23RD\", \"RG4 1FG\", \"OX4 3AS\"]\n",
    "```\n",
    "\n",
    "- write a Custom 'address_machine' function that formats 'name', 'hs_number_street', 'town', 'postcode' with commas and spaces between items\n",
    "- create a 'newlist' that repeatedly calls 'address_machine' and 'zips' items from the 4 lists\n",
    "- write a 'for loop' that iterates over 'new list' and prints each name and address on a separate line\n",
    "- the output should appear as follows\n",
    "\n",
    "```\n",
    "T Cruise, 2 West St, Canterbury, CT8 23RD\n",
    "D Francis, 65 Deadend Cls, Reading, RG4 1FG\n",
    "C White, 15 Magdalen Rd, Oxford, OX4 3AS\n",
    "```\n",
    "\n",
    "- <font color=\"red\">HINT:</font> look at \"# CUSTOM FUNCTION WORKED EXAMPLES 3 & 4\" above"
   ]
  },
  {
   "cell_type": "code",
   "execution_count": 6,
   "id": "b4a9e16c",
   "metadata": {},
   "outputs": [
    {
     "name": "stdout",
     "output_type": "stream",
     "text": [
      "T Cruise, 2 West St, Canterbury, CT8 23RD\n",
      "D Francis, 65 Deadend Cls, Reading, RG4 1FG\n",
      "C White, 15 Magdalen Rd, Oxford, OX4 3AS\n"
     ]
    }
   ],
   "source": [
    "# Logbook Exercise 4\n",
    "\n",
    "names = [\"T Cruise\", \"D Francis\", \"C White\"]\n",
    "street = [\"2 West St\", \"65 Deadend Cls\", \"15 Magdalen Rd\"]\n",
    "towns = [\"Canterbury\", \"Reading\", \"Oxford\"]\n",
    "postcodes = [\"CT8 23RD\", \"RG4 1FG\", \"OX4 3AS\"]\n",
    "\n",
    "def address_machine(name, hs_number_street, town, postcode):\n",
    "    return f\"{name}, {hs_number_street}, {town}, {postcode}\"\n",
    "\n",
    "newlist = [address_machine(nme, st, twn, pstcde) for nme,st,twn,pstcde in zip(names, street, towns, postcodes)]\n",
    "\n",
    "for item in newlist:\n",
    "    print(item)"
   ]
  },
  {
   "cell_type": "markdown",
   "id": "da5137e4",
   "metadata": {},
   "source": []
  },
  {
   "cell_type": "markdown",
   "id": "33245b13",
   "metadata": {},
   "source": [
    "## <font color=\"red\">Logbook Exercise 5</font> ##\n",
    "\n",
    "Create a 'code' cell below. In this do the following:\n",
    "- Create a super class \"Person\" that takes three string and one integer parameters for first and second name, UK Postcode and age in years.\n",
    "- Give \"Person\" a method \"greeting\" that prints a statement along the lines \"Hello, my name is Freddy Jones. I am 22 years old and my postcode is HP6 7AJ\"\n",
    "- Create a \"Student\" class that extends/inherits \"Person\" and takes additional parameters for degree_subject and student_ID.\n",
    "- give \"Student\" a \"studentGreeting\" method that prints a statement along the lines \"My student ID is SN123456 and I am reading Computer Science\"\n",
    "- Use either Python {} format or C-type %s/%d notation to format output strings\n",
    "- Create 3 student objects and persist these in a list\n",
    "- Iterate over the three objects and call their \"greeting\" and \"studentGreeting\" methods\n",
    "- Output should be along the lines of the following\n",
    "\n",
    "```\n",
    "Hello, my name is Dick Turpin. I am 32 years old and my postcode is HP11 2JZ\n",
    "My student ID is DT123456 and I am reading Highway Robbery\n",
    " \n",
    "Hello, my name is Dorothy Turpin. I am 32 years old and my postcode is SO14 7AA\n",
    "My student ID is DT123457 and I am reading Law\n",
    " \n",
    "Hello, my name is Oliver Cromwell. I am 32 years old and my postcode is OX35 14RE\n",
    "My student ID is OC123456 and I am reading History\n",
    "```"
   ]
  },
  {
   "cell_type": "code",
   "execution_count": 1,
   "id": "22151896",
   "metadata": {},
   "outputs": [
    {
     "name": "stdout",
     "output_type": "stream",
     "text": [
      "Hello, my name is Dick Turpin. I am 32 years old and my postcode is HP11 2JZ\n",
      "My student ID is DT123456 and I am reading Highway Robbery\n",
      "\n",
      "\n",
      "Hello, my name is Dorothy Turpin. I am 32 years old and my postcode is SO14 7AA\n",
      "My student ID is DT123457 and I am reading Law\n",
      "\n",
      "\n",
      "Hello, my name is Oliver Cromwell. I am 32 years old and my postcode is OX35 14RE\n",
      "My student ID is OC123456 and I am reading History\n",
      "\n",
      "\n"
     ]
    }
   ],
   "source": [
    "# Logbook Exercise 5\n",
    "\n",
    "class Person:\n",
    "    def __init__(self, firstname, surname, uk_postcode, age):\n",
    "        self._firstname = firstname\n",
    "        self._surname = surname\n",
    "        self._uk_postcode = uk_postcode\n",
    "        self._age = age\n",
    "        \n",
    "    def greeting(self):\n",
    "        print(f\"Hello, my name is {self._firstname} {self._surname}. I am {self._age} years old and my postcode is {self._uk_postcode}\")\n",
    "                 \n",
    "class Student(Person):\n",
    "    def __init__(self, firstname, surname, uk_postcode, age, degree_subject, student_ID):\n",
    "        super().__init__(firstname, surname, uk_postcode, age)\n",
    "        self._degree_subject = degree_subject\n",
    "        self._student_ID = student_ID\n",
    "                 \n",
    "    def studentGreeting(self):\n",
    "        print(f\"My student ID is {self._student_ID} and I am reading {self._degree_subject}\")\n",
    "    \n",
    "student1 = Student(\"Dick\", \"Turpin\", \"HP11 2JZ\", 32, \"Highway Robbery\", \"DT123456\")\n",
    "student2 = Student(\"Dorothy\", \"Turpin\", \"SO14 7AA\", 32, \"Law\", \"DT123457\")\n",
    "student3 = Student(\"Oliver\", \"Cromwell\", \"OX35 14RE\", 32, \"History\", \"OC123456\")\n",
    "\n",
    "all_students = [student1, student2, student3]\n",
    "\n",
    "for student in all_students:\n",
    "    student.greeting()\n",
    "    student.studentGreeting()\n",
    "    print(\"\\n\")\n"
   ]
  },
  {
   "cell_type": "markdown",
   "id": "626a7b36",
   "metadata": {},
   "source": []
  },
  {
   "attachments": {
    "Untitled.png": {
     "image/png": "[encoded data removed]"
    }
   },
   "cell_type": "markdown",
   "id": "d7b87825",
   "metadata": {},
   "source": [
    "## <font color=\"red\">Logbook Exercise 6</font> ##\n",
    "\n",
    "- Examine Steve Lipton's \"simplest ever\" version for the MVC \n",
    "- Note how when the MyController object is initialised it:\n",
    " - passes a reference to itself to the MyModel and MyView objects it creates\n",
    " - thereby allowing MyModel and MyView to create 'delegate' vc (virtual control) aliases to call back the MyController object\n",
    "- When you feel you have understood MVC messaging and delegation add code for a new button that removes items from the list\n",
    "- The end result should be capable of creating the output below\n",
    "- Clearly ***comment your code*** to highlight the insertions you have made\n",
    "- Note: if you don't see the GUI immediately look for the icon Jupyter icon in your task bar (also higlighted below)\n",
    "\n",
    "![Untitled.png](attachment:Untitled.png)"
   ]
  },
  {
   "cell_type": "code",
   "execution_count": 2,
   "id": "be9e9943",
   "metadata": {},
   "outputs": [
    {
     "name": "stdout",
     "output_type": "stream",
     "text": [
      "returned\n",
      "['duck', 'duck', 'goose', 'penguin']\n",
      "returned\n",
      "['duck', 'duck', 'goose', 'penguin', 'chicken']\n",
      "returned\n",
      "['duck', 'duck', 'goose', 'penguin', 'chicken', 'turkey']\n",
      "returned\n",
      "['duck', 'duck', 'goose', 'penguin', 'chicken', 'turkey', 'pheasant']\n",
      "returned\n",
      "['duck', 'duck', 'goose', 'penguin', 'chicken', 'turkey']\n"
     ]
    }
   ],
   "source": [
    "## Logbook Exercise 6\n",
    "\n",
    "#MVC_Template_01\n",
    "#2014 May 23  by Steven Lipton http://makeAppPie.com\n",
    "#Controller initializing MVC -- simplest version possible.\n",
    "from tkinter import *\n",
    " \n",
    "#\n",
    "# A A Model-View-Controller framework for TKinter.\n",
    "# Model: Data Structure. Controller can send messages to it, and model can respond to message.\n",
    "# View : User interface elements. Controller can send messages to it. View can call methods from Controller when an event happens.\n",
    "# Controller: Ties View and Model together. turns UI responses into chages in data.\n",
    " \n",
    "#\n",
    "#Controller: Ties View and Model together.\n",
    "#       --Performs actions based on View events.\n",
    "#       --Sends messages to Model and View and gets responses\n",
    "#       --Has Delegates \n",
    " \n",
    "class MyController():\n",
    "    def __init__(self,parent):\n",
    "        self.parent = parent\n",
    "        self.model = MyModel(self)    # initializes the model\n",
    "        self.view = MyView(self)  #initializes the view\n",
    "        #initialize objects in view\n",
    "        self.view.setEntry_text('Add to Label') #a non cheat way to do MVC wiht tkinter control variables\n",
    "        self.view.setLabel_text('Ready')\n",
    " #event handlers\n",
    "    def quitButtonPressed(self):\n",
    "        self.parent.destroy()\n",
    "    def addButtonPressed(self):\n",
    "        self.view.setLabel_text(self.view.entry_text.get())\n",
    "        self.model.addToList(self.view.entry_text.get())\n",
    "    # - This is code for the remove button.\n",
    "    def removeButtonPressed(self):\n",
    "        self.view.setLabel_text(self.view.entry_text.get())\n",
    "        self.model.removeFromList(self.view.entry_text.get())\n",
    "    def listChangedDelegate(self):\n",
    "        #model internally chages and needs to signal a change\n",
    "        print(self.model.getList())\n",
    " \n",
    "#View : User interface elements.\n",
    "#       --Controller can send messages to it.\n",
    "#       --View can call methods from Controller vc when an event happens.\n",
    "#       --NEVER communicates with Model.\n",
    "#       --Has setters and getters to communicate with controller\n",
    " \n",
    "class MyView(Frame):\n",
    "    def loadView(self):\n",
    "        quitButton = Button(self.frame,text = 'Quit', command= self.vc.quitButtonPressed).grid(row = 0,column = 0)\n",
    "        addButton = Button(self.frame,text = \"Add\", command = self.vc.addButtonPressed).grid(row = 0, column = 1)\n",
    "        # remove button code for the View\n",
    "        removeButton = Button(self.frame,text = \"Remove\", command = self.vc.removeButtonPressed).grid(row = 0, column = 2)\n",
    "        entry = Entry(self.frame,textvariable = self.entry_text).grid(row = 1, column = 0, columnspan = 3, sticky = EW)\n",
    "        label = Label(self.frame,textvariable = self.label_text).grid(row = 2, column = 0, columnspan = 3, sticky = EW)\n",
    "    def __init__(self,vc):\n",
    "        self.frame=Frame()\n",
    "        self.frame.grid(row = 0,column=0)\n",
    "        self.vc = vc\n",
    "        self.entry_text = StringVar()\n",
    "        self.entry_text.set('nil')\n",
    "        self.label_text = StringVar()\n",
    "        self.label_text.set('nil')\n",
    "        self.loadView()\n",
    "    def getEntry_text(self):\n",
    "    #returns a string of the entry text\n",
    "        return self.entry_text.get()\n",
    "    def setEntry_text(self,text):\n",
    "    #sets the entry text given a string\n",
    "        self.entry_text.set(text)\n",
    "    def getLabel_text(self):\n",
    "    #returns a string of the Label text\n",
    "        return self.label_text.get()\n",
    "    def setLabel_text(self,text):\n",
    "    #sets the label text given a string\n",
    "        self.label_text.set(text)\n",
    " \n",
    "#Model: Data Structure.\n",
    "#   --Controller can send messages to it, and model can respond to message.\n",
    "#   --Uses delegates from vc to send messages to the Controll of internal change\n",
    "#   --NEVER communicates with View\n",
    "#   --Has setters and getters to communicate with Controller\n",
    " \n",
    "class MyModel():\n",
    "    def __init__(self,vc):\n",
    "        self.vc = vc\n",
    "        self.myList = ['duck','duck','goose']\n",
    "        self.count = 0\n",
    "#Delegates-- Model would call this on internal change\n",
    "    def listChanged(self):\n",
    "        self.vc.listChangedDelegate()\n",
    "#setters and getters\n",
    "    def getList(self):\n",
    "        return self.myList\n",
    "    def initListWithList(self, aList):\n",
    "        self.myList = aList\n",
    "    def addToList(self,item):\n",
    "        print(\"returned\")\n",
    "        myList = self.myList\n",
    "        myList.append(item)\n",
    "        self.myList=myList\n",
    "        self.listChanged()\n",
    "    # remove function added to remove chosen data from the model\n",
    "    def removeFromList(self,item):\n",
    "        print(\"returned\")\n",
    "        myList = self.myList\n",
    "        myList.remove(item)\n",
    "        self.myList=myList\n",
    "        self.listChanged()\n",
    " \n",
    "def main():\n",
    "    root = Tk()\n",
    "    frame = Frame(root,bg='#0555ff' )\n",
    "    root.title('Hello Penguins')\n",
    "    app = MyController(root)\n",
    "    root.mainloop()  \n",
    " \n",
    "if __name__ == '__main__':\n",
    "    main()  "
   ]
  },
  {
   "cell_type": "code",
   "execution_count": null,
   "id": "60c02a6a",
   "metadata": {},
   "outputs": [],
   "source": []
  }
 ],
 "metadata": {
  "kernelspec": {
   "display_name": "Python 3 (ipykernel)",
   "language": "python",
   "name": "python3"
  },
  "language_info": {
   "codemirror_mode": {
    "name": "ipython",
    "version": 3
   },
   "file_extension": ".py",
   "mimetype": "text/x-python",
   "name": "python",
   "nbconvert_exporter": "python",
   "pygments_lexer": "ipython3",
   "version": "3.11.5"
  }
 },
 "nbformat": 4,
 "nbformat_minor": 5
}
